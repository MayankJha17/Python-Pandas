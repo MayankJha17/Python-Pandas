{
  "nbformat": 4,
  "nbformat_minor": 0,
  "metadata": {
    "colab": {
      "name": "Python Pandas",
      "provenance": [],
      "collapsed_sections": [],
      "authorship_tag": "ABX9TyOMUZBuuMOjOzIOuWTgxl/H",
      "include_colab_link": true
    },
    "kernelspec": {
      "name": "python3",
      "display_name": "Python 3"
    },
    "language_info": {
      "name": "python"
    }
  },
  "cells": [
    {
      "cell_type": "markdown",
      "metadata": {
        "id": "view-in-github",
        "colab_type": "text"
      },
      "source": [
        "<a href=\"https://colab.research.google.com/github/MayankJha17/Python-Pandas/blob/main/Python_Pandas_Seaborn.ipynb\" target=\"_parent\"><img src=\"https://colab.research.google.com/assets/colab-badge.svg\" alt=\"Open In Colab\"/></a>"
      ]
    },
    {
      "cell_type": "markdown",
      "metadata": {
        "id": "bweh6v3MZjgJ"
      },
      "source": [
        "#PANDAS TUTORIALS "
      ]
    },
    {
      "cell_type": "code",
      "metadata": {
        "id": "vKvbiOFoZf2m"
      },
      "source": [
        "##importing library pandas\n",
        "import pandas as pd\n",
        "##link of the dataset\n",
        "url='https://raw.githubusercontent.com/MayankJha17/Titanic---Machine-Learning-from-Disaster/main/train.csv'\n",
        "##reading the dataset\n",
        "dataset=pd.read_csv(url)"
      ],
      "execution_count": null,
      "outputs": []
    },
    {
      "cell_type": "code",
      "metadata": {
        "colab": {
          "base_uri": "https://localhost:8080/",
          "height": 204
        },
        "id": "NV24yNWFZ9jh",
        "outputId": "dddc0b52-4991-492d-8896-40933e3959fc"
      },
      "source": [
        "##printing the data top 5 rows\n",
        "dataset.head()"
      ],
      "execution_count": null,
      "outputs": [
        {
          "output_type": "execute_result",
          "data": {
            "text/html": [
              "<div>\n",
              "<style scoped>\n",
              "    .dataframe tbody tr th:only-of-type {\n",
              "        vertical-align: middle;\n",
              "    }\n",
              "\n",
              "    .dataframe tbody tr th {\n",
              "        vertical-align: top;\n",
              "    }\n",
              "\n",
              "    .dataframe thead th {\n",
              "        text-align: right;\n",
              "    }\n",
              "</style>\n",
              "<table border=\"1\" class=\"dataframe\">\n",
              "  <thead>\n",
              "    <tr style=\"text-align: right;\">\n",
              "      <th></th>\n",
              "      <th>PassengerId</th>\n",
              "      <th>Survived</th>\n",
              "      <th>Pclass</th>\n",
              "      <th>Name</th>\n",
              "      <th>Sex</th>\n",
              "      <th>Age</th>\n",
              "      <th>SibSp</th>\n",
              "      <th>Parch</th>\n",
              "      <th>Ticket</th>\n",
              "      <th>Fare</th>\n",
              "      <th>Cabin</th>\n",
              "      <th>Embarked</th>\n",
              "    </tr>\n",
              "  </thead>\n",
              "  <tbody>\n",
              "    <tr>\n",
              "      <th>0</th>\n",
              "      <td>1</td>\n",
              "      <td>0</td>\n",
              "      <td>3</td>\n",
              "      <td>Braund, Mr. Owen Harris</td>\n",
              "      <td>male</td>\n",
              "      <td>22.0</td>\n",
              "      <td>1</td>\n",
              "      <td>0</td>\n",
              "      <td>A/5 21171</td>\n",
              "      <td>7.2500</td>\n",
              "      <td>NaN</td>\n",
              "      <td>S</td>\n",
              "    </tr>\n",
              "    <tr>\n",
              "      <th>1</th>\n",
              "      <td>2</td>\n",
              "      <td>1</td>\n",
              "      <td>1</td>\n",
              "      <td>Cumings, Mrs. John Bradley (Florence Briggs Th...</td>\n",
              "      <td>female</td>\n",
              "      <td>38.0</td>\n",
              "      <td>1</td>\n",
              "      <td>0</td>\n",
              "      <td>PC 17599</td>\n",
              "      <td>71.2833</td>\n",
              "      <td>C85</td>\n",
              "      <td>C</td>\n",
              "    </tr>\n",
              "    <tr>\n",
              "      <th>2</th>\n",
              "      <td>3</td>\n",
              "      <td>1</td>\n",
              "      <td>3</td>\n",
              "      <td>Heikkinen, Miss. Laina</td>\n",
              "      <td>female</td>\n",
              "      <td>26.0</td>\n",
              "      <td>0</td>\n",
              "      <td>0</td>\n",
              "      <td>STON/O2. 3101282</td>\n",
              "      <td>7.9250</td>\n",
              "      <td>NaN</td>\n",
              "      <td>S</td>\n",
              "    </tr>\n",
              "    <tr>\n",
              "      <th>3</th>\n",
              "      <td>4</td>\n",
              "      <td>1</td>\n",
              "      <td>1</td>\n",
              "      <td>Futrelle, Mrs. Jacques Heath (Lily May Peel)</td>\n",
              "      <td>female</td>\n",
              "      <td>35.0</td>\n",
              "      <td>1</td>\n",
              "      <td>0</td>\n",
              "      <td>113803</td>\n",
              "      <td>53.1000</td>\n",
              "      <td>C123</td>\n",
              "      <td>S</td>\n",
              "    </tr>\n",
              "    <tr>\n",
              "      <th>4</th>\n",
              "      <td>5</td>\n",
              "      <td>0</td>\n",
              "      <td>3</td>\n",
              "      <td>Allen, Mr. William Henry</td>\n",
              "      <td>male</td>\n",
              "      <td>35.0</td>\n",
              "      <td>0</td>\n",
              "      <td>0</td>\n",
              "      <td>373450</td>\n",
              "      <td>8.0500</td>\n",
              "      <td>NaN</td>\n",
              "      <td>S</td>\n",
              "    </tr>\n",
              "  </tbody>\n",
              "</table>\n",
              "</div>"
            ],
            "text/plain": [
              "   PassengerId  Survived  Pclass  ...     Fare Cabin  Embarked\n",
              "0            1         0       3  ...   7.2500   NaN         S\n",
              "1            2         1       1  ...  71.2833   C85         C\n",
              "2            3         1       3  ...   7.9250   NaN         S\n",
              "3            4         1       1  ...  53.1000  C123         S\n",
              "4            5         0       3  ...   8.0500   NaN         S\n",
              "\n",
              "[5 rows x 12 columns]"
            ]
          },
          "metadata": {
            "tags": []
          },
          "execution_count": 2
        }
      ]
    },
    {
      "cell_type": "markdown",
      "metadata": {
        "id": "L-PTYaGcaWWR"
      },
      "source": [
        "##Pandas deals with the following three data structures −\n",
        "\n",
        "Series - 1D - 1D labeled homogeneous array, sizeimmutable.\n",
        "\n",
        "DataFrame - 2D - General 2D labeled, size-mutable tabular structure with potentially heterogeneously typed columns.\n",
        "\n",
        "Panel - 3D - General 3D labeled, size-mutable array.\n",
        "\n",
        "\n",
        "\n"
      ]
    },
    {
      "cell_type": "markdown",
      "metadata": {
        "id": "R2RIPei_fwKe"
      },
      "source": [
        "### All Pandas data structures are value mutable (can be changed) and except Series all are size mutable. Series is size immutable."
      ]
    },
    {
      "cell_type": "markdown",
      "metadata": {
        "id": "Z-xh2FvLf6qw"
      },
      "source": [
        "### SERIES\n",
        "\n",
        "Series\n",
        "Series is a one-dimensional array like structure with homogeneous data. For example, the following series is a collection of integers 10, 23, 56, …\n",
        "\n",
        "Key Points\n",
        "Homogeneous data\n",
        "Size Immutable\n",
        "Values of Data Mutable\n",
        "Series is size immutable."
      ]
    },
    {
      "cell_type": "markdown",
      "metadata": {
        "id": "vAHDR9ekgOmo"
      },
      "source": [
        "### DATAFRAME\n",
        "\n",
        "DataFrame is a two-dimensional array with heterogeneous data. \n",
        "\n",
        "Key Points\n",
        "Heterogeneous data\n",
        "Size Mutable\n",
        "Data Mutable\n",
        "Panel"
      ]
    },
    {
      "cell_type": "markdown",
      "metadata": {
        "id": "iIdwI25wglSJ"
      },
      "source": [
        "### SERIES\n",
        "\n",
        "A pandas Series can be created using the following constructor −\n",
        "\n",
        "pandas.Series( data, index, dtype, copy)\n",
        "\n",
        "\n",
        "data: data takes various forms like ndarray, list, constants\n",
        "\n",
        "index: Index values must be unique and hashable, same length as data. Default np.arrange(n) if no index is passed.\n",
        "\n",
        "dtypes: dtype is for data type. If None, data type will be inferred\n",
        "\n",
        "copy: Copy data. Default False\n",
        "\n"
      ]
    },
    {
      "cell_type": "code",
      "metadata": {
        "colab": {
          "base_uri": "https://localhost:8080/"
        },
        "id": "5ZtbwQ19hAdB",
        "outputId": "3f6691ac-049b-45b0-882c-f1d8fe4040b8"
      },
      "source": [
        "##creating an empty series\n",
        "series=pd.Series()\n",
        "series"
      ],
      "execution_count": 4,
      "outputs": [
        {
          "output_type": "stream",
          "text": [
            "/usr/local/lib/python3.7/dist-packages/ipykernel_launcher.py:2: DeprecationWarning: The default dtype for empty Series will be 'object' instead of 'float64' in a future version. Specify a dtype explicitly to silence this warning.\n",
            "  \n"
          ],
          "name": "stderr"
        },
        {
          "output_type": "execute_result",
          "data": {
            "text/plain": [
              "Series([], dtype: float64)"
            ]
          },
          "metadata": {
            "tags": []
          },
          "execution_count": 4
        }
      ]
    },
    {
      "cell_type": "code",
      "metadata": {
        "colab": {
          "base_uri": "https://localhost:8080/"
        },
        "id": "nqt1WjDOhHoY",
        "outputId": "b3bd6fc6-80a5-4b04-fed0-59770ef3ca69"
      },
      "source": [
        "series=pd.Series([1,2,3])##passing the list\n",
        "series"
      ],
      "execution_count": 7,
      "outputs": [
        {
          "output_type": "execute_result",
          "data": {
            "text/plain": [
              "0    1\n",
              "1    2\n",
              "2    3\n",
              "dtype: int64"
            ]
          },
          "metadata": {
            "tags": []
          },
          "execution_count": 7
        }
      ]
    },
    {
      "cell_type": "code",
      "metadata": {
        "colab": {
          "base_uri": "https://localhost:8080/"
        },
        "id": "8JxEwiRLhPMv",
        "outputId": "921f6667-6fd8-4829-e99b-271ba6314b65"
      },
      "source": [
        "##assigining index values\n",
        "series=pd.Series([1,2,3],index=[101,102,103])\n",
        "series"
      ],
      "execution_count": 8,
      "outputs": [
        {
          "output_type": "execute_result",
          "data": {
            "text/plain": [
              "101    1\n",
              "102    2\n",
              "103    3\n",
              "dtype: int64"
            ]
          },
          "metadata": {
            "tags": []
          },
          "execution_count": 8
        }
      ]
    },
    {
      "cell_type": "code",
      "metadata": {
        "colab": {
          "base_uri": "https://localhost:8080/"
        },
        "id": "sEoXPMk_hmqn",
        "outputId": "e1077a7e-4cbd-4b02-dc24-9b6750106b0f"
      },
      "source": [
        "##paasing dictionary to the series\n",
        "##Dictionary keys are used to construct index.\n",
        "data = {'a' : 0, 'b' : 1, 'c' : 2}\n",
        "s = pd.Series(data)\n",
        "s"
      ],
      "execution_count": 11,
      "outputs": [
        {
          "output_type": "execute_result",
          "data": {
            "text/plain": [
              "a    0\n",
              "b    1\n",
              "c    2\n",
              "dtype: int64"
            ]
          },
          "metadata": {
            "tags": []
          },
          "execution_count": 11
        }
      ]
    },
    {
      "cell_type": "code",
      "metadata": {
        "colab": {
          "base_uri": "https://localhost:8080/"
        },
        "id": "HA0yN05yh0-_",
        "outputId": "05a759a4-77b1-48a8-fcec-75b32c29cdc5"
      },
      "source": [
        "##Create a Series from Scalar\n",
        "##If data is a scalar value, an index must be provided. The value will be repeated to match the length of index\n",
        "s = pd.Series(5, index=[0, 1, 2, 3])\n",
        "s"
      ],
      "execution_count": 12,
      "outputs": [
        {
          "output_type": "execute_result",
          "data": {
            "text/plain": [
              "0    5\n",
              "1    5\n",
              "2    5\n",
              "3    5\n",
              "dtype: int64"
            ]
          },
          "metadata": {
            "tags": []
          },
          "execution_count": 12
        }
      ]
    },
    {
      "cell_type": "code",
      "metadata": {
        "colab": {
          "base_uri": "https://localhost:8080/"
        },
        "id": "Q36DcbxeiRWR",
        "outputId": "64d05148-f057-4a6d-924a-832b919c4cf6"
      },
      "source": [
        "##Accessing Data from Series with Position\n",
        "s = pd.Series([1,2,3,4,5],index=['a','b','c','d','e'])\n",
        "s['a']"
      ],
      "execution_count": 15,
      "outputs": [
        {
          "output_type": "execute_result",
          "data": {
            "text/plain": [
              "1"
            ]
          },
          "metadata": {
            "tags": []
          },
          "execution_count": 15
        }
      ]
    },
    {
      "cell_type": "code",
      "metadata": {
        "colab": {
          "base_uri": "https://localhost:8080/"
        },
        "id": "tDcCi46di3Ao",
        "outputId": "c7156209-dff4-424a-efaf-ad9b5363d4bf"
      },
      "source": [
        "##Retrieve the first three elements in the Series.\n",
        "s = pd.Series([1,2,3,4,5])\n",
        "s[:3]"
      ],
      "execution_count": 16,
      "outputs": [
        {
          "output_type": "execute_result",
          "data": {
            "text/plain": [
              "0    1\n",
              "1    2\n",
              "2    3\n",
              "dtype: int64"
            ]
          },
          "metadata": {
            "tags": []
          },
          "execution_count": 16
        }
      ]
    },
    {
      "cell_type": "code",
      "metadata": {
        "colab": {
          "base_uri": "https://localhost:8080/"
        },
        "id": "Z0ui36s_jNZm",
        "outputId": "b729a543-f6bd-490c-c7c5-e4a729ff0ace"
      },
      "source": [
        "##Retrieve the last three elements in the Series.\n",
        "s = pd.Series([1,2,3,4,5])\n",
        "s[:-3]"
      ],
      "execution_count": 17,
      "outputs": [
        {
          "output_type": "execute_result",
          "data": {
            "text/plain": [
              "0    1\n",
              "1    2\n",
              "dtype: int64"
            ]
          },
          "metadata": {
            "tags": []
          },
          "execution_count": 17
        }
      ]
    },
    {
      "cell_type": "code",
      "metadata": {
        "colab": {
          "base_uri": "https://localhost:8080/"
        },
        "id": "xmommJ--jUpI",
        "outputId": "e2d9aa04-dfec-456d-bd8b-9a5b9c57c656"
      },
      "source": [
        "s = pd.Series([1,2,3,4,5],index = ['a','b','c','d','e'])\n",
        "\n",
        "#retrieve multiple elements\n",
        "s[['a','c','d']]"
      ],
      "execution_count": 19,
      "outputs": [
        {
          "output_type": "execute_result",
          "data": {
            "text/plain": [
              "a    1\n",
              "c    3\n",
              "d    4\n",
              "dtype: int64"
            ]
          },
          "metadata": {
            "tags": []
          },
          "execution_count": 19
        }
      ]
    }
  ]
}